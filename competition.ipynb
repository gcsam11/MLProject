{
 "cells": [
  {
   "cell_type": "code",
   "execution_count": 8,
   "metadata": {},
   "outputs": [
    {
     "name": "stdout",
     "output_type": "stream",
     "text": [
      "\n",
      "Playoff Predictions for Next Season:\n",
      "=====================================\n",
      "LAS: 99.63% chance of making playoffs\n",
      "IND: 98.37% chance of making playoffs\n",
      "SAS: 96.35% chance of making playoffs\n",
      "MIN: 95.19% chance of making playoffs\n",
      "SAC: 95.18% chance of making playoffs\n",
      "DET: 93.56% chance of making playoffs\n",
      "PHO: 71.79% chance of making playoffs\n",
      "SEA: 69.19% chance of making playoffs\n",
      "WAS: 57.46% chance of making playoffs\n",
      "ATL: 50.71% chance of making playoffs\n",
      "NYL: 23.21% chance of making playoffs\n",
      "CON: 15.91% chance of making playoffs\n",
      "CHI: 5.61% chance of making playoffs\n",
      "TUL: 5.10% chance of making playoffs\n",
      "\n",
      "Results have been saved to 'playoff_predictions_year_10.csv'\n"
     ]
    }
   ],
   "source": [
    "import pandas as pd\n",
    "from xgboost import XGBClassifier\n",
    "\n",
    "# Load the model with the same parameters as in your training code\n",
    "best_params = {'learning_rate': 0.16640983692081657, 'n_estimators': 70, 'max_depth': 10, 'min_child_weight': 1, 'subsample': 0.9627772663131126, 'colsample_bytree': 0.8328125240505475, 'gamma': 0.13209771833800843, 'reg_alpha': 0.7012278052521271, 'reg_lambda': 0.944583621847628, 'scale_pos_weight': 3.2875411136098283}\n",
    "model = XGBClassifier(**best_params, random_state=42, eval_metric='logloss')\n",
    "\n",
    "# Define the features in the same order as used in training\n",
    "features = [\n",
    "    'PlayoffProgScore', '3P%', 'FT%',\n",
    "    'OFFRTG', 'DEFRTG', 'AST RATIO',\n",
    "    'REB%', 'TOV%', 'PACE', 'AvgPIE_NextYearPlayers'\n",
    "]\n",
    "\n",
    "# Load and prepare the training data\n",
    "dataset = pd.read_csv('./cleaned_data/dataset.csv')\n",
    "X_train = dataset[features]\n",
    "y_train = dataset['PlayoffNextSeason']\n",
    "\n",
    "# Train the model on all training data\n",
    "model.fit(X_train, y_train)\n",
    "\n",
    "# Load year 10 data\n",
    "year_10_data = pd.read_csv('./cleaned_data/year_10_stats.csv')\n",
    "\n",
    "# Prepare the prediction data\n",
    "X_pred = year_10_data[features]\n",
    "\n",
    "# Get predictions and probabilities\n",
    "predictions = model.predict(X_pred)\n",
    "probabilities = model.predict_proba(X_pred)\n",
    "\n",
    "# Create results DataFrame\n",
    "results = pd.DataFrame({\n",
    "    'Team': year_10_data['Team'],\n",
    "    'Playoff_Prediction': predictions,\n",
    "    'Playoff_Probability': probabilities[:, 1]  # Probability of positive class (making playoffs)\n",
    "})\n",
    "\n",
    "# Sort by probability in descending order\n",
    "results = results.sort_values('Playoff_Probability', ascending=False)\n",
    "\n",
    "# Display results\n",
    "print(\"\\nPlayoff Predictions for Next Season:\")\n",
    "print(\"=====================================\")\n",
    "for _, row in results.iterrows():\n",
    "    print(f\"{row['Team']}: {row['Playoff_Probability']*100:.2f}% chance of making playoffs\")\n",
    "\n",
    "# Save to CSV\n",
    "results.to_csv('playoff_predictions_year_10.csv', index=False)\n",
    "print(\"\\nResults have been saved to 'playoff_predictions_year_10.csv'\")"
   ]
  }
 ],
 "metadata": {
  "kernelspec": {
   "display_name": "Python 3",
   "language": "python",
   "name": "python3"
  },
  "language_info": {
   "codemirror_mode": {
    "name": "ipython",
    "version": 3
   },
   "file_extension": ".py",
   "mimetype": "text/x-python",
   "name": "python",
   "nbconvert_exporter": "python",
   "pygments_lexer": "ipython3",
   "version": "3.10.12"
  }
 },
 "nbformat": 4,
 "nbformat_minor": 2
}
