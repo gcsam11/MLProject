{
 "cells": [
  {
   "cell_type": "code",
   "execution_count": 12,
   "metadata": {},
   "outputs": [],
   "source": [
    "import pandas as pd\n",
    "from xgboost import XGBClassifier"
   ]
  },
  {
   "cell_type": "markdown",
   "metadata": {},
   "source": [
    "## Competition\n",
    "\n",
    "### Submission 1\n",
    "\n"
   ]
  },
  {
   "cell_type": "markdown",
   "metadata": {},
   "source": [
    "For the first submission made, this was the model that was used that led to the following results:"
   ]
  },
  {
   "cell_type": "code",
   "execution_count": null,
   "metadata": {},
   "outputs": [
    {
     "name": "stdout",
     "output_type": "stream",
     "text": [
      "\n",
      "Playoff Predictions for Next Season:\n",
      "=====================================\n",
      "LAS: 99.54% chance of making playoffs\n",
      "IND: 97.05% chance of making playoffs\n",
      "MIN: 96.74% chance of making playoffs\n",
      "SAS: 95.73% chance of making playoffs\n",
      "SEA: 85.14% chance of making playoffs\n",
      "PHO: 73.39% chance of making playoffs\n",
      "ATL: 68.04% chance of making playoffs\n",
      "WAS: 43.36% chance of making playoffs\n",
      "CON: 40.39% chance of making playoffs\n",
      "NYL: 26.68% chance of making playoffs\n",
      "CHI: 14.62% chance of making playoffs\n",
      "TUL: 1.39% chance of making playoffs\n",
      "\n",
      "Results have been saved to 'playoff_predictions_year_10.csv'\n"
     ]
    }
   ],
   "source": [
    "# Load the model with the same parameters as in your training code\n",
    "best_params = {'learning_rate': 0.16640983692081657, 'n_estimators': 70, 'max_depth': 10, 'min_child_weight': 1, 'subsample': 0.9627772663131126, 'colsample_bytree': 0.8328125240505475, 'gamma': 0.13209771833800843, 'reg_alpha': 0.7012278052521271, 'reg_lambda': 0.944583621847628, 'scale_pos_weight': 3.2875411136098283}\n",
    "model = XGBClassifier(**best_params, random_state=42, eval_metric='logloss')\n",
    "\n",
    "# Define the features in the same order as used in training\n",
    "features = [\n",
    "    'PlayoffProgScore', '3P%', 'FT%',\n",
    "    'OFFRTG', 'DEFRTG', 'AST RATIO',\n",
    "    'REB%', 'TOV%', 'PACE', 'AvgPIE_NextYearPlayers'    \n",
    "]\n",
    "\n",
    "# Load and prepare the training data\n",
    "dataset = pd.read_csv('../cleaned_data/dataset.csv')\n",
    "X_train = dataset[features]\n",
    "y_train = dataset['PlayoffNextSeason']\n",
    "\n",
    "# Train the model on all training data\n",
    "model.fit(X_train, y_train)\n",
    "\n",
    "# Load year 10 data\n",
    "year_10_data = pd.read_csv('../cleaned_data/year_10_stats.csv')\n",
    "\n",
    "# Prepare the prediction data\n",
    "X_pred = year_10_data[features]\n",
    "\n",
    "# Get predictions and probabilities\n",
    "predictions = model.predict(X_pred)\n",
    "probabilities = model.predict_proba(X_pred)\n",
    "\n",
    "# Create results DataFrame\n",
    "results = pd.DataFrame({\n",
    "    'Team': year_10_data['Team'],\n",
    "    'Playoff_Prediction': predictions,\n",
    "    'Playoff_Probability': probabilities[:, 1]  # Probability of positive class (making playoffs)\n",
    "})\n",
    "\n",
    "# Sort by probability in descending order\n",
    "results = results.sort_values('Playoff_Probability', ascending=False)\n",
    "\n",
    "# Display results\n",
    "print(\"\\nPlayoff Predictions for Next Season:\")\n",
    "print(\"=====================================\")\n",
    "for _, row in results.iterrows():\n",
    "    print(f\"{row['Team']}: {row['Playoff_Probability']*100:.2f}% chance of making playoffs\")"
   ]
  },
  {
   "cell_type": "markdown",
   "metadata": {},
   "source": [
    "### Submission 2\n",
    "\n",
    "Submission 2 was our final submission, but one of the days we submitted without rounding the numbers, and on the last day submitted with probabilities above 0.85 rounded to 1 and below 0.15 rounded to 0."
   ]
  },
  {
   "cell_type": "code",
   "execution_count": 1,
   "metadata": {},
   "outputs": [
    {
     "name": "stdout",
     "output_type": "stream",
     "text": [
      "\n",
      "Playoff Predictions for Next Season:\n",
      "=====================================\n",
      "LAS: 99.70% chance of making playoffs\n",
      "SAS: 99.43% chance of making playoffs\n",
      "IND: 99.37% chance of making playoffs\n",
      "SEA: 98.15% chance of making playoffs\n",
      "PHO: 89.42% chance of making playoffs\n",
      "NYL: 89.42% chance of making playoffs\n",
      "MIN: 84.52% chance of making playoffs\n",
      "CON: 73.37% chance of making playoffs\n",
      "WAS: 61.21% chance of making playoffs\n",
      "ATL: 25.11% chance of making playoffs\n",
      "CHI: 5.92% chance of making playoffs\n",
      "TUL: 0.33% chance of making playoffs\n",
      "\n",
      "Results have been saved to 'playoff_predictions_year_10.csv'\n"
     ]
    }
   ],
   "source": [
    "# Load the model with the same parameters as in your training code\n",
    "best_params = {'learning_rate': 0.2242647022315775, 'n_estimators': 79, 'max_depth': 7, 'min_child_weight': 1, 'subsample': 0.8927217522311153, 'colsample_bytree': 0.7750851408245816, 'gamma': 0.4593480844032318, 'reg_alpha': 0.4090488353340545, 'reg_lambda': 0.08331747739058343, 'scale_pos_weight': 8.196181010536847}#{'learning_rate': 0.12107949809157363, 'n_estimators': 139, 'max_depth': 4, 'min_child_weight': 1, 'subsample': 0.9209752945123717, 'colsample_bytree': 0.8547946386134507, 'gamma': 0.3034587970270446, 'reg_alpha': 0.594892621788095, 'reg_lambda': 0.6783176414022941, 'scale_pos_weight': 3.137907077722744}\n",
    "model = XGBClassifier(**best_params, random_state=42, eval_metric='logloss')\n",
    "\n",
    "# Define the features in the same order as used in training\n",
    "features = [\n",
    "    'CumulativePlayoffProgScore', '3P%', 'FT%',\n",
    "    'OFFRTG', 'DEFRTG', 'AST RATIO',\n",
    "    'REB%', 'TOV%', 'PACE', 'AvgPIE_NextYearPlayers', 'Performance_NextYearCoach'\n",
    "]\n",
    "\n",
    "# Load and prepare the training data\n",
    "dataset = pd.read_csv('../cleaned_data/dataset.csv')\n",
    "X_train = dataset[features]\n",
    "y_train = dataset['PlayoffNextSeason']\n",
    "\n",
    "# Train the model on all training data\n",
    "model.fit(X_train, y_train)\n",
    "\n",
    "# Load year 10 data\n",
    "year_10_data = pd.read_csv('../cleaned_data/year_10_stats.csv')\n",
    "\n",
    "# Prepare the prediction data\n",
    "X_pred = year_10_data[features]\n",
    "\n",
    "# Get predictions and probabilities\n",
    "predictions = model.predict(X_pred)\n",
    "probabilities = model.predict_proba(X_pred)\n",
    "\n",
    "# Create results DataFrame\n",
    "results = pd.DataFrame({\n",
    "    'Team': year_10_data['Team'],\n",
    "    'Playoff_Prediction': predictions,\n",
    "    'Playoff_Probability': probabilities[:, 1]  # Probability of positive class (making playoffs)\n",
    "})\n",
    "\n",
    "# Sort by probability in descending order\n",
    "results = results.sort_values('Playoff_Probability', ascending=False)\n",
    "\n",
    "# Display results\n",
    "print(\"\\nPlayoff Predictions for Next Season:\")\n",
    "print(\"=====================================\")\n",
    "for _, row in results.iterrows():\n",
    "    print(f\"{row['Team']}: {row['Playoff_Probability']*100:.2f}% chance of making playoffs\")"
   ]
  }
 ],
 "metadata": {
  "kernelspec": {
   "display_name": "Python 3",
   "language": "python",
   "name": "python3"
  },
  "language_info": {
   "codemirror_mode": {
    "name": "ipython",
    "version": 3
   },
   "file_extension": ".py",
   "mimetype": "text/x-python",
   "name": "python",
   "nbconvert_exporter": "python",
   "pygments_lexer": "ipython3",
   "version": "3.10.11"
  }
 },
 "nbformat": 4,
 "nbformat_minor": 2
}
