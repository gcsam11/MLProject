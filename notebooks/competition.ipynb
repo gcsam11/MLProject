{
 "cells": [
  {
   "cell_type": "code",
   "execution_count": 17,
   "metadata": {},
   "outputs": [
    {
     "name": "stdout",
     "output_type": "stream",
     "text": [
      "\n",
      "Playoff Predictions for Next Season:\n",
      "=====================================\n",
      "LAS: 99.99% chance of making playoffs\n",
      "SAS: 99.92% chance of making playoffs\n",
      "WAS: 99.50% chance of making playoffs\n",
      "ATL: 99.07% chance of making playoffs\n",
      "MIN: 98.81% chance of making playoffs\n",
      "PHO: 98.09% chance of making playoffs\n",
      "IND: 96.55% chance of making playoffs\n",
      "CON: 95.88% chance of making playoffs\n",
      "SEA: 94.56% chance of making playoffs\n",
      "NYL: 89.61% chance of making playoffs\n",
      "CHI: 0.53% chance of making playoffs\n",
      "TUL: 0.27% chance of making playoffs\n",
      "\n",
      "Results have been saved to 'playoff_predictions_year_10.csv'\n"
     ]
    }
   ],
   "source": [
    "import pandas as pd\n",
    "from xgboost import XGBClassifier\n",
    "\n",
    "# Load the model with the same parameters as in your training code\n",
    "best_params = {'learning_rate': 0.2916903245522562, 'n_estimators': 404, 'max_depth': 7, 'min_child_weight': 1, 'subsample': 0.7194530016125948, 'colsample_bytree': 0.8243666347326039, 'gamma': 1.0504744487954727, 'reg_alpha': 0.7543318286365954, 'reg_lambda': 0.035539482725579316, 'scale_pos_weight': 63.0002814746974}\n",
    "model = XGBClassifier(**best_params, random_state=42, eval_metric='logloss')\n",
    "\n",
    "# Define the features in the same order as used in training\n",
    "features = [\n",
    "    'PlayoffProgScore', 'FTA', 'DREB', 'AST', 'REB%', 'CumulativePlayoffProgScore', 'AvgPIE_NextYearPlayers', 'Performance_NextYearCoach'\n",
    "]\n",
    "\n",
    "# Load and prepare the training data\n",
    "dataset = pd.read_csv('../cleaned_data/dataset.csv')\n",
    "X_train = dataset[features]\n",
    "y_train = dataset['PlayoffNextSeason']\n",
    "\n",
    "# Train the model on all training data\n",
    "model.fit(X_train, y_train)\n",
    "\n",
    "# Load year 10 data\n",
    "year_10_data = pd.read_csv('../cleaned_data/year_10_stats.csv')\n",
    "\n",
    "# Prepare the prediction data\n",
    "X_pred = year_10_data[features]\n",
    "\n",
    "# Get predictions and probabilities\n",
    "predictions = model.predict(X_pred)\n",
    "probabilities = model.predict_proba(X_pred)\n",
    "\n",
    "# Create results DataFrame\n",
    "results = pd.DataFrame({\n",
    "    'Team': year_10_data['Team'],\n",
    "    'Playoff_Prediction': predictions,\n",
    "    'Playoff_Probability': probabilities[:, 1]  # Probability of positive class (making playoffs)\n",
    "})\n",
    "\n",
    "# Sort by probability in descending order\n",
    "results = results.sort_values('Playoff_Probability', ascending=False)\n",
    "\n",
    "# Display results\n",
    "print(\"\\nPlayoff Predictions for Next Season:\")\n",
    "print(\"=====================================\")\n",
    "for _, row in results.iterrows():\n",
    "    print(f\"{row['Team']}: {row['Playoff_Probability']*100:.2f}% chance of making playoffs\")\n",
    "\n",
    "# Save to CSV\n",
    "results.to_csv('playoff_predictions_year_10.csv', index=False)\n",
    "print(\"\\nResults have been saved to 'playoff_predictions_year_10.csv'\")"
   ]
  }
 ],
 "metadata": {
  "kernelspec": {
   "display_name": "Python 3",
   "language": "python",
   "name": "python3"
  },
  "language_info": {
   "codemirror_mode": {
    "name": "ipython",
    "version": 3
   },
   "file_extension": ".py",
   "mimetype": "text/x-python",
   "name": "python",
   "nbconvert_exporter": "python",
   "pygments_lexer": "ipython3",
   "version": "3.10.12"
  }
 },
 "nbformat": 4,
 "nbformat_minor": 2
}
